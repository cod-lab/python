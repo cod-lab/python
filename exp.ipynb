{
 "nbformat": 4,
 "nbformat_minor": 2,
 "metadata": {
  "language_info": {
   "name": "python",
   "codemirror_mode": {
    "name": "ipython",
    "version": 3
   },
   "version": "3.7.4-final"
  },
  "orig_nbformat": 2,
  "file_extension": ".py",
  "mimetype": "text/x-python",
  "name": "python",
  "npconvert_exporter": "python",
  "pygments_lexer": "ipython3",
  "version": 3,
  "kernelspec": {
   "name": "python37432bitf4cf56d2d11a47f9a18040b8fa4b3d70",
   "display_name": "Python 3.7.4 32-bit"
  }
 },
 "cells": [
  {
   "cell_type": "code",
   "execution_count": 7,
   "metadata": {},
   "outputs": [
    {
     "name": "stdout",
     "output_type": "stream",
     "text": "{'1': {'s;dlflm': 'us'},\n '2': {'jkdnfkjsf': 'us'},\n '3': {'alpha': 'russia'},\n '4': {'pablo': 'Colombia'},\n '5': {'wer': 'jty'},\n '6': {'sdfs': 'sdf'},\n '7': {'1': 'singapore'},\n '8': {'asf': 'mysore'}}\n'\\nok! u r from here only\\n(no data added to json)\\n'\n"
    }
   ],
   "source": [
    "import json\n",
    "import pprint\n",
    "\n",
    "t={}\n",
    "with open('outsiders.json','r') as f:                           #load outsiders.json file into ram, File is opened in reading mode\n",
    "    t=json.load(f)\n",
    "pprint.pprint(t)\n",
    "\n",
    "a=\"\\nok! u r from here only\\n(no data added to json)\\n\"\n",
    "pprint.pprint(a)"
   ]
  },
  {
   "cell_type": "code",
   "execution_count": null,
   "metadata": {},
   "outputs": [],
   "source": []
  }
 ]
}